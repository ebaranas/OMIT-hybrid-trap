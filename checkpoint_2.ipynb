{
  "nbformat": 4,
  "nbformat_minor": 0,
  "metadata": {
    "colab": {
      "name": "checkpoint-2.ipynb",
      "version": "0.3.2",
      "provenance": [],
      "include_colab_link": true
    },
    "kernelspec": {
      "name": "python3",
      "display_name": "Python 3"
    }
  },
  "cells": [
    {
      "cell_type": "markdown",
      "metadata": {
        "id": "view-in-github",
        "colab_type": "text"
      },
      "source": [
        "<a href=\"https://colab.research.google.com/github/ebaranas/OMIT-hybrid-trap/blob/master/checkpoint_2.ipynb\" target=\"_parent\"><img src=\"https://colab.research.google.com/assets/colab-badge.svg\" alt=\"Open In Colab\"/></a>"
      ]
    },
    {
      "metadata": {
        "id": "YKnAcN3bWD6F",
        "colab_type": "code",
        "colab": {}
      },
      "cell_type": "code",
      "source": [
        "# Pretty Print\n",
        "\n",
        "def pretty_print(N):\n",
        "  reps = 2*N - 1\n",
        "  print([N]*reps)\n",
        "  for line in range(1, 2*N - 1, 1):\n",
        "    print('\\n')\n",
        "    output = []\n",
        "    for i in range(line):\n",
        "      output.append(N - i)\n",
        "    for i in range(reps - 2*line):\n",
        "      output.append(N - line)\n",
        "    for i in range(line - 1, -1, -1):\n",
        "      output.append(N - i)\n",
        "    print(output)\n",
        "  "
      ],
      "execution_count": 0,
      "outputs": []
    },
    {
      "metadata": {
        "id": "HPwR7qcTZIHv",
        "colab_type": "code",
        "colab": {
          "base_uri": "https://localhost:8080/",
          "height": 238
        },
        "outputId": "ee9d383d-86d2-49ef-c45f-a7d8f8e6f19c"
      },
      "cell_type": "code",
      "source": [
        "pretty_print(3)"
      ],
      "execution_count": 6,
      "outputs": [
        {
          "output_type": "stream",
          "text": [
            "[3, 3, 3, 3, 3]\n",
            "\n",
            "\n",
            "[3, 2, 2, 2, 3]\n",
            "\n",
            "\n",
            "[3, 2, 1, 2, 3]\n",
            "\n",
            "\n",
            "[3, 2, 1, 1, 2, 3]\n",
            "\n",
            "\n",
            "[3, 2, 1, 0, 0, 1, 2, 3]\n"
          ],
          "name": "stdout"
        }
      ]
    },
    {
      "metadata": {
        "id": "zZ8mPm-JZJ91",
        "colab_type": "code",
        "colab": {}
      },
      "cell_type": "code",
      "source": [
        ""
      ],
      "execution_count": 0,
      "outputs": []
    }
  ]
}