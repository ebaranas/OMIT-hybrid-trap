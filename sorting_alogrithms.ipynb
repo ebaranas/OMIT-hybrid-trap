{
  "nbformat": 4,
  "nbformat_minor": 0,
  "metadata": {
    "colab": {
      "name": "sorting-alogrithms.ipynb",
      "version": "0.3.2",
      "provenance": [],
      "include_colab_link": true
    },
    "kernelspec": {
      "name": "python3",
      "display_name": "Python 3"
    }
  },
  "cells": [
    {
      "cell_type": "markdown",
      "metadata": {
        "id": "view-in-github",
        "colab_type": "text"
      },
      "source": [
        "<a href=\"https://colab.research.google.com/github/ebaranas/OMIT-hybrid-trap/blob/master/sorting_alogrithms.ipynb\" target=\"_parent\"><img src=\"https://colab.research.google.com/assets/colab-badge.svg\" alt=\"Open In Colab\"/></a>"
      ]
    },
    {
      "metadata": {
        "id": "ImwyRmJK_4kj",
        "colab_type": "code",
        "colab": {}
      },
      "cell_type": "code",
      "source": [
        "# bug: be careful with assign statements! x = y; z = x #x has been changed!)\n",
        "# bug: range of list\n",
        "# bug: be careful with initializing a vairable inside a control statement\n",
        "# e.g. current minimum index\n",
        "\n",
        "# my_list = [14, 13, 11, 12] / [11, 13, 14, 12] / [11, 12, 14, 13]\n",
        "def selection_sort(my_list):\n",
        "  length = len(my_list)\n",
        "  for i in range(length):\n",
        "    current_minimum = my_list[i]\n",
        "    current_minimum_index = i\n",
        "    print(my_list)\n",
        "    for j in range(i + 1, length):\n",
        "      if current_minimum > my_list[j]:\n",
        "        current_minimum = my_list[j]\n",
        "        current_minimum_index = j\n",
        "    # swapping minimum with elements starting from the left\n",
        "    my_list[current_minimum_index] = my_list[i]\n",
        "    my_list[i] = current_minimum\n",
        "  return my_list"
      ],
      "execution_count": 0,
      "outputs": []
    },
    {
      "metadata": {
        "id": "xx_D_3pU01H9",
        "colab_type": "code",
        "colab": {
          "base_uri": "https://localhost:8080/",
          "height": 85
        },
        "outputId": "341c0a08-39ff-417e-c113-c113ede68c02"
      },
      "cell_type": "code",
      "source": [
        "my_list = [3, 1, 3]\n",
        "selection_sort(my_list)"
      ],
      "execution_count": 45,
      "outputs": [
        {
          "output_type": "stream",
          "text": [
            "[3, 1, 3]\n",
            "[1, 3, 3]\n",
            "[1, 3, 3]\n"
          ],
          "name": "stdout"
        },
        {
          "output_type": "execute_result",
          "data": {
            "text/plain": [
              "[1, 3, 3]"
            ]
          },
          "metadata": {
            "tags": []
          },
          "execution_count": 45
        }
      ]
    },
    {
      "metadata": {
        "id": "8I06nmRy06i4",
        "colab_type": "code",
        "colab": {}
      },
      "cell_type": "code",
      "source": [
        ""
      ],
      "execution_count": 0,
      "outputs": []
    }
  ]
}