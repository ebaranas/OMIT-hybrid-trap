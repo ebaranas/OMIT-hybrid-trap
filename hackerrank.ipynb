{
  "nbformat": 4,
  "nbformat_minor": 0,
  "metadata": {
    "colab": {
      "name": "hackerrank.ipynb",
      "version": "0.3.2",
      "provenance": []
    },
    "kernelspec": {
      "name": "python3",
      "display_name": "Python 3"
    }
  },
  "cells": [
    {
      "metadata": {
        "id": "x5ODKyiz9TPi",
        "colab_type": "code",
        "colab": {}
      },
      "cell_type": "code",
      "source": [
        "def sockMerchant(n, ar):\n",
        "    unique_socks = {}\n",
        "    for sock in ar:\n",
        "        if not sock in unique_socks:\n",
        "            unique_socks[sock] = 1\n",
        "        elif sock in unique_socks:\n",
        "            unique_socks[sock] = unique_socks[sock] + 1\n",
        "        else:\n",
        "            pass\n",
        "    print(unique_socks)\n",
        "    count = 0\n",
        "    for sock in unique_socks:\n",
        "        if unique_socks[sock] % 2 == 0:\n",
        "            count = count + unique_socks[sock]/2\n",
        "    return count"
      ],
      "execution_count": 0,
      "outputs": []
    },
    {
      "metadata": {
        "id": "FdO4SNyU9V65",
        "colab_type": "code",
        "colab": {
          "base_uri": "https://localhost:8080/",
          "height": 51
        },
        "outputId": "815c2ab7-a80d-4c83-9683-4a126d5178f2"
      },
      "cell_type": "code",
      "source": [
        "ar = [10, 20, 20, 10, 10, 30, 5, 10, 20]\n",
        "sockMerchant(4, ar)"
      ],
      "execution_count": 6,
      "outputs": [
        {
          "output_type": "stream",
          "text": [
            "{10: 4, 20: 3, 30: 1, 5: 1}\n"
          ],
          "name": "stdout"
        },
        {
          "output_type": "execute_result",
          "data": {
            "text/plain": [
              "2.0"
            ]
          },
          "metadata": {
            "tags": []
          },
          "execution_count": 6
        }
      ]
    },
    {
      "metadata": {
        "id": "MvsvE5-D9aIe",
        "colab_type": "code",
        "colab": {}
      },
      "cell_type": "code",
      "source": [
        "# bugs: index out of range; if left and right --> left evaluates first\n",
        "#!/bin/python3\n",
        "\n",
        "import math\n",
        "import os\n",
        "import random\n",
        "import re\n",
        "import sys\n",
        "\n",
        "# Complete the jumpingOnClouds function below.\n",
        "def jumpingOnClouds(c):\n",
        "    count = 0\n",
        "    index = 0\n",
        "    while index != n-1:\n",
        "        if index + 2 < n and c[index + 2] != 1:\n",
        "            count = count + 1\n",
        "            index = index + 2\n",
        "        else:\n",
        "            count = count + 1\n",
        "            index = index + 1 \n",
        "    return count"
      ],
      "execution_count": 0,
      "outputs": []
    },
    {
      "metadata": {
        "id": "xGQNX3iYSl8O",
        "colab_type": "code",
        "colab": {}
      },
      "cell_type": "code",
      "source": [
        "# bug: // and * are not commutative!!!\n",
        "#!/bin/python3\n",
        "\n",
        "import math\n",
        "import os\n",
        "import random\n",
        "import re\n",
        "import sys\n",
        "\n",
        "# Complete the repeatedString function below.\n",
        "def repeatedString(s, n):\n",
        "    string_length = len(s)\n",
        "    if string_length == 1 and s == 'a':\n",
        "        return n\n",
        "    elif 'a' not in s:\n",
        "        return 0\n",
        "    else:\n",
        "        return n//string_length*s.count('a') + s[:(n%string_length)].count('a')"
      ],
      "execution_count": 0,
      "outputs": []
    },
    {
      "metadata": {
        "id": "Y1yllnYjdSW7",
        "colab_type": "code",
        "colab": {
          "base_uri": "https://localhost:8080/",
          "height": 34
        },
        "outputId": "95043d09-0e50-4b67-9485-35386ebd1e2a"
      },
      "cell_type": "code",
      "source": [
        "s = 'epsxyyflvrrrxzvnoenvpegvuonodjoxfwdmcvwctmekpsnamchznsoxaklzjgrqruyzavshfbmuhdwwmpbkwcuomqhiyvuztwvq'\n",
        "n = 549382313570\n",
        "repeatedString(s, n)"
      ],
      "execution_count": 15,
      "outputs": [
        {
          "output_type": "execute_result",
          "data": {
            "text/plain": [
              "16481469408"
            ]
          },
          "metadata": {
            "tags": []
          },
          "execution_count": 15
        }
      ]
    },
    {
      "metadata": {
        "id": "ptFucZ7BeAdl",
        "colab_type": "code",
        "colab": {}
      },
      "cell_type": "code",
      "source": [
        ""
      ],
      "execution_count": 0,
      "outputs": []
    }
  ]
}