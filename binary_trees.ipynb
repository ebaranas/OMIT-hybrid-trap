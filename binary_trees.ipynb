{
  "nbformat": 4,
  "nbformat_minor": 0,
  "metadata": {
    "colab": {
      "name": "binary-trees.ipynb",
      "version": "0.3.2",
      "provenance": [],
      "include_colab_link": true
    },
    "kernelspec": {
      "name": "python3",
      "display_name": "Python 3"
    }
  },
  "cells": [
    {
      "cell_type": "markdown",
      "metadata": {
        "id": "view-in-github",
        "colab_type": "text"
      },
      "source": [
        "<a href=\"https://colab.research.google.com/github/ebaranas/OMIT-hybrid-trap/blob/master/binary_trees.ipynb\" target=\"_parent\"><img src=\"https://colab.research.google.com/assets/colab-badge.svg\" alt=\"Open In Colab\"/></a>"
      ]
    },
    {
      "metadata": {
        "id": "dNoNthyXUdtO",
        "colab_type": "code",
        "colab": {}
      },
      "cell_type": "code",
      "source": [
        "# BINARY SEARCH TREES\n",
        "# bug: incorrect use of if if elif else (order matters?)\n",
        "# IMPT: one traverses TREES not nodes!\n",
        "# (so traverse must NOT be a member function)\n",
        "\n",
        "class Node(object):\n",
        "  def __init__(self, value):\n",
        "    self.value = value\n",
        "    self.left_child = None\n",
        "    self.right_child = None\n",
        "\n",
        "class BinarySearchTree(object):\n",
        "  def __init__(self):\n",
        "    self.root = None\n",
        "  \n",
        "  def is_empty(self):\n",
        "    if self.root == None:\n",
        "      return True\n",
        "    else:\n",
        "      return False\n",
        "    \n",
        "  def insert(self, value):\n",
        "    node = Node(value)\n",
        "    if self.is_empty() == True:\n",
        "      self.root = node\n",
        "    \n",
        "    else:\n",
        "      destination_node = self.root\n",
        "      while destination_node is not None:\n",
        "        if node.value > destination_node.value:\n",
        "          flag = 'right'\n",
        "          parent_node = destination_node\n",
        "          destination_node = destination_node.right_child\n",
        "        elif node.value <= destination_node.value:\n",
        "          flag = 'left'\n",
        "          parent_node = destination_node\n",
        "          destination_node = destination_node.left_child\n",
        "      if flag == 'left':\n",
        "        parent_node.left_child = node\n",
        "      else:\n",
        "        parent_node.right_child = node\n",
        "\n",
        "def traverse_in_order(tree):\n",
        "  if tree.is_empty() == True:\n",
        "    print('None')\n",
        "\n",
        "  else:\n",
        "    if tree.root.left_child == None and tree.root.right_child == None:\n",
        "      # base case: no children, just print node values\n",
        "      print(tree.root.value)\n",
        "    else:\n",
        "      left_tree = BinarySearchTree()\n",
        "      right_tree = BinarySearchTree()\n",
        "      left_tree.root = tree.root.left_child\n",
        "      right_tree.root = tree.root.right_child\n",
        "      traverse_in_order(left_tree)\n",
        "      print(tree.root.value)\n",
        "      traverse_in_order(right_tree)"
      ],
      "execution_count": 0,
      "outputs": []
    },
    {
      "metadata": {
        "id": "BmJ3spBhSqEA",
        "colab_type": "code",
        "colab": {
          "base_uri": "https://localhost:8080/",
          "height": 204
        },
        "outputId": "93ef2aa2-db63-4cc1-90ec-5c0bac2be031"
      },
      "cell_type": "code",
      "source": [
        "bst = BinarySearchTree()\n",
        "bst.insert(5)\n",
        "bst.insert(3)\n",
        "bst.insert(6)\n",
        "bst.insert(1)\n",
        "bst.insert(9)\n",
        "bst.insert(4)\n",
        "bst.insert(7)\n",
        "bst.insert(0)\n",
        "traverse_in_order(bst)"
      ],
      "execution_count": 36,
      "outputs": [
        {
          "output_type": "stream",
          "text": [
            "0\n",
            "1\n",
            "None\n",
            "3\n",
            "4\n",
            "5\n",
            "None\n",
            "6\n",
            "7\n",
            "9\n",
            "None\n"
          ],
          "name": "stdout"
        }
      ]
    }
  ]
}