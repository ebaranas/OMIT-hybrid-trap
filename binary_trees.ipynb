{
  "nbformat": 4,
  "nbformat_minor": 0,
  "metadata": {
    "colab": {
      "name": "binary-trees.ipynb",
      "version": "0.3.2",
      "provenance": [],
      "include_colab_link": true
    },
    "kernelspec": {
      "name": "python3",
      "display_name": "Python 3"
    }
  },
  "cells": [
    {
      "cell_type": "markdown",
      "metadata": {
        "id": "view-in-github",
        "colab_type": "text"
      },
      "source": [
        "<a href=\"https://colab.research.google.com/github/ebaranas/OMIT-hybrid-trap/blob/master/binary_trees.ipynb\" target=\"_parent\"><img src=\"https://colab.research.google.com/assets/colab-badge.svg\" alt=\"Open In Colab\"/></a>"
      ]
    },
    {
      "metadata": {
        "id": "dNoNthyXUdtO",
        "colab_type": "code",
        "colab": {}
      },
      "cell_type": "code",
      "source": [
        "# BINARY SEARCH TREES\n",
        "# versus just BINARY TREE (no order!)\n",
        "# bug: incorrect use of if if elif else (order matters?)\n",
        "# IMPT: one traverses TREES not nodes!\n",
        "# (so traverse must NOT be a member function)\n",
        "# bug: return values from functions!!! (e.g.get_children)\n",
        "# any() vs all()\n",
        "\n",
        "class Node(object):\n",
        "  def __init__(self, value):\n",
        "    self.value = value\n",
        "    self.left_child = None\n",
        "    self.right_child = None\n",
        "\n",
        "class BinarySearchTree(object):\n",
        "  def __init__(self):\n",
        "    self.root = None\n",
        "  \n",
        "  def is_empty(self):\n",
        "    if self.root == None:\n",
        "      return True\n",
        "    else:\n",
        "      return False\n",
        "    \n",
        "  def insert(self, value):\n",
        "    node = Node(value)\n",
        "    if self.is_empty() == True:\n",
        "      self.root = node\n",
        "    \n",
        "    else:\n",
        "      destination_node = self.root\n",
        "      while destination_node is not None:\n",
        "        if node.value > destination_node.value:\n",
        "          flag = 'right'\n",
        "          parent_node = destination_node\n",
        "          destination_node = destination_node.right_child\n",
        "        elif node.value <= destination_node.value:\n",
        "          flag = 'left'\n",
        "          parent_node = destination_node\n",
        "          destination_node = destination_node.left_child\n",
        "      if flag == 'left':\n",
        "        parent_node.left_child = node\n",
        "      else:\n",
        "        parent_node.right_child = node\n",
        "\n",
        "def traverse_in_order(tree):\n",
        "  if tree.is_empty() == True:\n",
        "    print('None')\n",
        "\n",
        "  else:\n",
        "    if tree.root.left_child == None and tree.root.right_child == None:\n",
        "      # base case: no children, just print node values\n",
        "      print(tree.root.value)\n",
        "    else:\n",
        "      left_tree = BinarySearchTree()\n",
        "      right_tree = BinarySearchTree()\n",
        "      left_tree.root = tree.root.left_child\n",
        "      right_tree.root = tree.root.right_child\n",
        "      traverse_in_order(left_tree)\n",
        "      print(tree.root.value)\n",
        "      traverse_in_order(right_tree)\n",
        "\n",
        "def get_children(nodes):\n",
        "    children = []\n",
        "    for node in nodes:\n",
        "      if node is not None:\n",
        "        children.append(node.left_child)\n",
        "        children.append(node.right_child)\n",
        "    return children\n",
        "  \n",
        "\n",
        "def traverse_level_order(tree):\n",
        "  if tree.is_empty() == True:\n",
        "    print('None')\n",
        "\n",
        "  else:\n",
        "    nodes = [tree.root]\n",
        "    print([node.value for node in nodes])\n",
        "    children = get_children(nodes)\n",
        "    while any(children) is True:\n",
        "      nodes = children\n",
        "      print([node.value for node in nodes if node is not None])\n",
        "      children = get_children(nodes)"
      ],
      "execution_count": 0,
      "outputs": []
    },
    {
      "metadata": {
        "id": "BmJ3spBhSqEA",
        "colab_type": "code",
        "colab": {
          "base_uri": "https://localhost:8080/",
          "height": 85
        },
        "outputId": "cb6f9a9d-b4e7-4995-eec2-5747e59b8032"
      },
      "cell_type": "code",
      "source": [
        "bst = BinarySearchTree()\n",
        "bst.insert(5)\n",
        "bst.insert(3)\n",
        "bst.insert(6)\n",
        "bst.insert(1)\n",
        "bst.insert(9)\n",
        "bst.insert(4)\n",
        "bst.insert(7)\n",
        "bst.insert(0)\n",
        "# traverse_in_order(bst)\n",
        "traverse_level_order(bst)"
      ],
      "execution_count": 90,
      "outputs": [
        {
          "output_type": "stream",
          "text": [
            "[5]\n",
            "[3, 6]\n",
            "[1, 4, 9]\n",
            "[0, 7]\n"
          ],
          "name": "stdout"
        }
      ]
    },
    {
      "metadata": {
        "id": "gNf9acKjK5K8",
        "colab_type": "code",
        "colab": {}
      },
      "cell_type": "code",
      "source": [
        "# Check if a tree is a Binary Search Tree\n",
        "def is_binary_search(tree):\n",
        "  current_node = tree.root\n",
        "  if tree.is_empty() == True:\n",
        "    return True\n",
        "  if current_node == None:\n",
        "    break\n",
        "\n",
        "  if current_node.left_child is not None:\n",
        "    if current_node.left_child.value <= current_node.value:\n",
        "      left_tree = BinaryTree()\n",
        "      left_tree.node = current_node.left_child\n",
        "      is_binary_search(left_tree)\n",
        "    else:\n",
        "      return False\n",
        "\n",
        "      \n",
        "  if current_node.right_child is not None:\n",
        "    if current_node.right_child.value > current_node.value:\n",
        "      right_tree = BinaryTree()\n",
        "      right_tree.node = current_node.right_child\n",
        "      is_binary_search(right_tree)\n",
        "    else:\n",
        "      return False\n",
        "  \n",
        "  else:\n",
        "  \n",
        "  if current_node.left_child.value <= current_node.value and\n",
        "       current_node.right_child.value > current_node.value:\n",
        "      left_tree = BinaryTree()\n",
        "      right_tree = BinaryTree()\n",
        "      left_tree.node = current_node.left_child\n",
        "      right_tree.node = current_node.right_child\n",
        "    if is_binary_search(left_tree) and is_binary_search(right_tree) is True:\n",
        "      return True\n",
        "    \n",
        "  else:\n",
        "    return False\n"
      ],
      "execution_count": 0,
      "outputs": []
    },
    {
      "metadata": {
        "id": "DmU6PfFzGOP-",
        "colab_type": "code",
        "colab": {
          "base_uri": "https://localhost:8080/",
          "height": 34
        },
        "outputId": "74be73d7-38e8-425f-9119-1c473fcf3038"
      },
      "cell_type": "code",
      "source": [
        "any([None, None, None])"
      ],
      "execution_count": 82,
      "outputs": [
        {
          "output_type": "execute_result",
          "data": {
            "text/plain": [
              "False"
            ]
          },
          "metadata": {
            "tags": []
          },
          "execution_count": 82
        }
      ]
    },
    {
      "metadata": {
        "id": "8GpQ7lLSGQKX",
        "colab_type": "code",
        "colab": {
          "base_uri": "https://localhost:8080/",
          "height": 34
        },
        "outputId": "e915f5a4-c01f-4573-d605-b6be35ccb608"
      },
      "cell_type": "code",
      "source": [
        "not all(v is None for v in [None, None, None])"
      ],
      "execution_count": 80,
      "outputs": [
        {
          "output_type": "execute_result",
          "data": {
            "text/plain": [
              "False"
            ]
          },
          "metadata": {
            "tags": []
          },
          "execution_count": 80
        }
      ]
    },
    {
      "metadata": {
        "id": "PfAG5r9XKGdX",
        "colab_type": "code",
        "colab": {
          "base_uri": "https://localhost:8080/",
          "height": 34
        },
        "outputId": "9b3ccd52-884f-4559-eab0-4ab3049d0c40"
      },
      "cell_type": "code",
      "source": [
        "True and False"
      ],
      "execution_count": 97,
      "outputs": [
        {
          "output_type": "execute_result",
          "data": {
            "text/plain": [
              "False"
            ]
          },
          "metadata": {
            "tags": []
          },
          "execution_count": 97
        }
      ]
    },
    {
      "metadata": {
        "id": "_Nd8w0RRY393",
        "colab_type": "code",
        "colab": {}
      },
      "cell_type": "code",
      "source": [
        "if False:\n",
        "  print('yo')"
      ],
      "execution_count": 0,
      "outputs": []
    },
    {
      "metadata": {
        "id": "KXBxiRkAZtvB",
        "colab_type": "code",
        "colab": {}
      },
      "cell_type": "code",
      "source": [
        ""
      ],
      "execution_count": 0,
      "outputs": []
    }
  ]
}